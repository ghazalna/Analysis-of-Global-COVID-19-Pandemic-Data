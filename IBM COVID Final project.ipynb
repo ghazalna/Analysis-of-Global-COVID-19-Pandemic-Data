{
 "cells": [
  {
   "cell_type": "code",
   "execution_count": 1,
   "id": "526ad77b-c5ec-4fc4-9013-5cd4b18b93cb",
   "metadata": {
    "tags": []
   },
   "outputs": [
    {
     "name": "stderr",
     "output_type": "stream",
     "text": [
      "Updating HTML index of packages in '.Library'\n",
      "Making 'packages.html' ... done\n",
      "Warning message:\n",
      "“dependency ‘lifecycle’ is not available”Warning message in install.packages(\"rvest\"):\n",
      "“installation of package ‘rvest’ had non-zero exit status”Updating HTML index of packages in '.Library'\n",
      "Making 'packages.html' ... done\n",
      "Loading required package: xml2\n"
     ]
    }
   ],
   "source": [
    "install.packages(\"xml2\")\n",
    "install.packages(\"rvest\")\n",
    "\n",
    "library(httr)\n",
    "library(rvest)"
   ]
  },
  {
   "cell_type": "code",
   "execution_count": 2,
   "id": "1ca70efc-5781-43c7-bb42-aefe8cd106f2",
   "metadata": {
    "tags": []
   },
   "outputs": [],
   "source": [
    "wiki_base_url <- \"https://en.wikipedia.org/w/index.php\" \n",
    "query_params <- list(title = \"Template:COVID-19_testing_by_country\")"
   ]
  },
  {
   "cell_type": "code",
   "execution_count": 3,
   "id": "30f45b18-f921-4bfb-9e5a-9a40126de770",
   "metadata": {
    "tags": []
   },
   "outputs": [],
   "source": [
    "get_wiki_covid19_page <- function(wiki_base_url, query) {\n",
    "  response <- GET(wiki_base_url, query = query)\n",
    "  return(response)\n",
    "}"
   ]
  },
  {
   "cell_type": "code",
   "execution_count": 4,
   "id": "4b47d60a-aa48-4020-98c1-d46a419d6e80",
   "metadata": {
    "tags": []
   },
   "outputs": [],
   "source": [
    "response <- get_wiki_covid19_page(wiki_base_url, query_params)"
   ]
  },
  {
   "cell_type": "code",
   "execution_count": 13,
   "id": "9ed804fb-a062-4ca4-9e20-3ab6c3df2872",
   "metadata": {
    "tags": []
   },
   "outputs": [],
   "source": [
    "root_node <- read_html(response)"
   ]
  },
  {
   "cell_type": "code",
   "execution_count": 19,
   "id": "b3a4f19a-a750-4996-814e-ea3b6747fa79",
   "metadata": {
    "tags": []
   },
   "outputs": [],
   "source": [
    "data_tables <- html_table(root_node)\n",
    "data_frame <- data_tables[[2]]\n"
   ]
  },
  {
   "cell_type": "code",
   "execution_count": 20,
   "id": "d9f35938-8307-40fb-9c00-51515c5b9edc",
   "metadata": {
    "tags": []
   },
   "outputs": [
    {
     "data": {
      "text/html": [
       "<table>\n",
       "<caption>A data.frame: 6 × 9</caption>\n",
       "<thead>\n",
       "\t<tr><th></th><th scope=col>Country or region</th><th scope=col>Date[a]</th><th scope=col>Tested</th><th scope=col>Units[b]</th><th scope=col>Confirmed(cases)</th><th scope=col>Confirmed /tested,%</th><th scope=col>Tested /population,%</th><th scope=col>Confirmed /population,%</th><th scope=col>Ref.</th></tr>\n",
       "\t<tr><th></th><th scope=col>&lt;chr&gt;</th><th scope=col>&lt;chr&gt;</th><th scope=col>&lt;chr&gt;</th><th scope=col>&lt;chr&gt;</th><th scope=col>&lt;chr&gt;</th><th scope=col>&lt;chr&gt;</th><th scope=col>&lt;chr&gt;</th><th scope=col>&lt;chr&gt;</th><th scope=col>&lt;chr&gt;</th></tr>\n",
       "</thead>\n",
       "<tbody>\n",
       "\t<tr><th scope=row>1</th><td>Afghanistan        </td><td>17 Dec 2020</td><td>154,767</td><td>samples</td><td>49,621</td><td>32.1</td><td>0.40</td><td>0.13 </td><td>[1]   </td></tr>\n",
       "\t<tr><th scope=row>2</th><td>Albania            </td><td>18 Feb 2021</td><td>428,654</td><td>samples</td><td>96,838</td><td>22.6</td><td>15.0</td><td>3.4  </td><td>[2]   </td></tr>\n",
       "\t<tr><th scope=row>3</th><td>Algeria            </td><td>2 Nov 2020 </td><td>230,553</td><td>samples</td><td>58,574</td><td>25.4</td><td>0.53</td><td>0.13 </td><td>[3][4]</td></tr>\n",
       "\t<tr><th scope=row>4</th><td>Andorra            </td><td>23 Feb 2022</td><td>300,307</td><td>samples</td><td>37,958</td><td>12.6</td><td>387 </td><td>49.0 </td><td>[5]   </td></tr>\n",
       "\t<tr><th scope=row>5</th><td>Angola             </td><td>2 Feb 2021 </td><td>399,228</td><td>samples</td><td>20,981</td><td>5.3 </td><td>1.3 </td><td>0.067</td><td>[6]   </td></tr>\n",
       "\t<tr><th scope=row>6</th><td>Antigua and Barbuda</td><td>6 Mar 2021 </td><td>15,268 </td><td>samples</td><td>832   </td><td>5.4 </td><td>15.9</td><td>0.86 </td><td>[7]   </td></tr>\n",
       "</tbody>\n",
       "</table>\n"
      ],
      "text/latex": [
       "A data.frame: 6 × 9\n",
       "\\begin{tabular}{r|lllllllll}\n",
       "  & Country or region & Date{[}a{]} & Tested & Units{[}b{]} & Confirmed(cases) & Confirmed /tested,\\% & Tested /population,\\% & Confirmed /population,\\% & Ref.\\\\\n",
       "  & <chr> & <chr> & <chr> & <chr> & <chr> & <chr> & <chr> & <chr> & <chr>\\\\\n",
       "\\hline\n",
       "\t1 & Afghanistan         & 17 Dec 2020 & 154,767 & samples & 49,621 & 32.1 & 0.40 & 0.13  & {[}1{]}   \\\\\n",
       "\t2 & Albania             & 18 Feb 2021 & 428,654 & samples & 96,838 & 22.6 & 15.0 & 3.4   & {[}2{]}   \\\\\n",
       "\t3 & Algeria             & 2 Nov 2020  & 230,553 & samples & 58,574 & 25.4 & 0.53 & 0.13  & {[}3{]}{[}4{]}\\\\\n",
       "\t4 & Andorra             & 23 Feb 2022 & 300,307 & samples & 37,958 & 12.6 & 387  & 49.0  & {[}5{]}   \\\\\n",
       "\t5 & Angola              & 2 Feb 2021  & 399,228 & samples & 20,981 & 5.3  & 1.3  & 0.067 & {[}6{]}   \\\\\n",
       "\t6 & Antigua and Barbuda & 6 Mar 2021  & 15,268  & samples & 832    & 5.4  & 15.9 & 0.86  & {[}7{]}   \\\\\n",
       "\\end{tabular}\n"
      ],
      "text/markdown": [
       "\n",
       "A data.frame: 6 × 9\n",
       "\n",
       "| <!--/--> | Country or region &lt;chr&gt; | Date[a] &lt;chr&gt; | Tested &lt;chr&gt; | Units[b] &lt;chr&gt; | Confirmed(cases) &lt;chr&gt; | Confirmed /tested,% &lt;chr&gt; | Tested /population,% &lt;chr&gt; | Confirmed /population,% &lt;chr&gt; | Ref. &lt;chr&gt; |\n",
       "|---|---|---|---|---|---|---|---|---|---|\n",
       "| 1 | Afghanistan         | 17 Dec 2020 | 154,767 | samples | 49,621 | 32.1 | 0.40 | 0.13  | [1]    |\n",
       "| 2 | Albania             | 18 Feb 2021 | 428,654 | samples | 96,838 | 22.6 | 15.0 | 3.4   | [2]    |\n",
       "| 3 | Algeria             | 2 Nov 2020  | 230,553 | samples | 58,574 | 25.4 | 0.53 | 0.13  | [3][4] |\n",
       "| 4 | Andorra             | 23 Feb 2022 | 300,307 | samples | 37,958 | 12.6 | 387  | 49.0  | [5]    |\n",
       "| 5 | Angola              | 2 Feb 2021  | 399,228 | samples | 20,981 | 5.3  | 1.3  | 0.067 | [6]    |\n",
       "| 6 | Antigua and Barbuda | 6 Mar 2021  | 15,268  | samples | 832    | 5.4  | 15.9 | 0.86  | [7]    |\n",
       "\n"
      ],
      "text/plain": [
       "  Country or region   Date[a]     Tested  Units[b] Confirmed(cases)\n",
       "1 Afghanistan         17 Dec 2020 154,767 samples  49,621          \n",
       "2 Albania             18 Feb 2021 428,654 samples  96,838          \n",
       "3 Algeria             2 Nov 2020  230,553 samples  58,574          \n",
       "4 Andorra             23 Feb 2022 300,307 samples  37,958          \n",
       "5 Angola              2 Feb 2021  399,228 samples  20,981          \n",
       "6 Antigua and Barbuda 6 Mar 2021  15,268  samples  832             \n",
       "  Confirmed /tested,% Tested /population,% Confirmed /population,% Ref.  \n",
       "1 32.1                0.40                 0.13                    [1]   \n",
       "2 22.6                15.0                 3.4                     [2]   \n",
       "3 25.4                0.53                 0.13                    [3][4]\n",
       "4 12.6                387                  49.0                    [5]   \n",
       "5 5.3                 1.3                  0.067                   [6]   \n",
       "6 5.4                 15.9                 0.86                    [7]   "
      ]
     },
     "metadata": {},
     "output_type": "display_data"
    }
   ],
   "source": [
    "head(data_frame)"
   ]
  },
  {
   "cell_type": "code",
   "execution_count": 23,
   "id": "8a6366d9-9ba7-4564-9c67-bd3f60d55df8",
   "metadata": {
    "tags": []
   },
   "outputs": [
    {
     "name": "stdout",
     "output_type": "stream",
     "text": [
      "'data.frame':\t173 obs. of  9 variables:\n",
      " $ Country or region      : chr  \"Afghanistan\" \"Albania\" \"Algeria\" \"Andorra\" ...\n",
      " $ Date[a]                : chr  \"17 Dec 2020\" \"18 Feb 2021\" \"2 Nov 2020\" \"23 Feb 2022\" ...\n",
      " $ Tested                 : chr  \"154,767\" \"428,654\" \"230,553\" \"300,307\" ...\n",
      " $ Units[b]               : chr  \"samples\" \"samples\" \"samples\" \"samples\" ...\n",
      " $ Confirmed(cases)       : chr  \"49,621\" \"96,838\" \"58,574\" \"37,958\" ...\n",
      " $ Confirmed /tested,%    : chr  \"32.1\" \"22.6\" \"25.4\" \"12.6\" ...\n",
      " $ Tested /population,%   : chr  \"0.40\" \"15.0\" \"0.53\" \"387\" ...\n",
      " $ Confirmed /population,%: chr  \"0.13\" \"3.4\" \"0.13\" \"49.0\" ...\n",
      " $ Ref.                   : chr  \"[1]\" \"[2]\" \"[3][4]\" \"[5]\" ...\n"
     ]
    }
   ],
   "source": [
    "str(data_frame)"
   ]
  },
  {
   "cell_type": "code",
   "execution_count": 28,
   "id": "1af15197-37f2-448a-801a-006e4c33f3a2",
   "metadata": {
    "tags": []
   },
   "outputs": [],
   "source": [
    "preprocess_covid_data_frame <- function(data_frame) {\n",
    "    \n",
    "    shape <- dim(data_frame)\n",
    "\n",
    "    # Remove the World row\n",
    "    data_frame <-data_frame[!(data_frame$`Country or region`==\"World\"),]\n",
    "    # Remove the last row\n",
    "    data_frame <- data_frame[1:172, ]\n",
    "    \n",
    "    # We dont need the Units and Ref columns, so can be removed\n",
    "    data_frame[\"Ref.\"] <- NULL\n",
    "    data_frame[\"Units[b]\"] <- NULL\n",
    "    \n",
    "    # Renaming the columns\n",
    "    names(data_frame) <- c(\"country\", \"date\", \"tested\", \"confirmed\", \"confirmed.tested.ratio\", \"tested.population.ratio\", \"confirmed.population.ratio\")\n",
    "    \n",
    "    # Convert column data types\n",
    "    data_frame$country <- as.factor(data_frame$country)\n",
    "    data_frame$date <- as.factor(data_frame$date)\n",
    "    data_frame$tested <- as.numeric(gsub(\",\",\"\",data_frame$tested))\n",
    "    data_frame$confirmed <- as.numeric(gsub(\",\",\"\",data_frame$confirmed))\n",
    "    data_frame$'confirmed.tested.ratio' <- as.numeric(gsub(\",\",\"\",data_frame$`confirmed.tested.ratio`))\n",
    "    data_frame$'tested.population.ratio' <- as.numeric(gsub(\",\",\"\",data_frame$`tested.population.ratio`))\n",
    "    data_frame$'confirmed.population.ratio' <- as.numeric(gsub(\",\",\"\",data_frame$`confirmed.population.ratio`))\n",
    "    \n",
    "    return(data_frame)\n",
    "}"
   ]
  },
  {
   "cell_type": "code",
   "execution_count": 29,
   "id": "d2c6eedf-d27f-452c-9741-e227c6f7ddb4",
   "metadata": {
    "tags": []
   },
   "outputs": [
    {
     "data": {
      "text/html": [
       "<table>\n",
       "<caption>A data.frame: 6 × 7</caption>\n",
       "<thead>\n",
       "\t<tr><th></th><th scope=col>country</th><th scope=col>date</th><th scope=col>tested</th><th scope=col>confirmed</th><th scope=col>confirmed.tested.ratio</th><th scope=col>tested.population.ratio</th><th scope=col>confirmed.population.ratio</th></tr>\n",
       "\t<tr><th></th><th scope=col>&lt;fct&gt;</th><th scope=col>&lt;fct&gt;</th><th scope=col>&lt;dbl&gt;</th><th scope=col>&lt;dbl&gt;</th><th scope=col>&lt;dbl&gt;</th><th scope=col>&lt;dbl&gt;</th><th scope=col>&lt;dbl&gt;</th></tr>\n",
       "</thead>\n",
       "<tbody>\n",
       "\t<tr><th scope=row>1</th><td>Afghanistan        </td><td>17 Dec 2020</td><td>154767</td><td>49621</td><td>32.1</td><td>  0.40</td><td> 0.130</td></tr>\n",
       "\t<tr><th scope=row>2</th><td>Albania            </td><td>18 Feb 2021</td><td>428654</td><td>96838</td><td>22.6</td><td> 15.00</td><td> 3.400</td></tr>\n",
       "\t<tr><th scope=row>3</th><td>Algeria            </td><td>2 Nov 2020 </td><td>230553</td><td>58574</td><td>25.4</td><td>  0.53</td><td> 0.130</td></tr>\n",
       "\t<tr><th scope=row>4</th><td>Andorra            </td><td>23 Feb 2022</td><td>300307</td><td>37958</td><td>12.6</td><td>387.00</td><td>49.000</td></tr>\n",
       "\t<tr><th scope=row>5</th><td>Angola             </td><td>2 Feb 2021 </td><td>399228</td><td>20981</td><td> 5.3</td><td>  1.30</td><td> 0.067</td></tr>\n",
       "\t<tr><th scope=row>6</th><td>Antigua and Barbuda</td><td>6 Mar 2021 </td><td> 15268</td><td>  832</td><td> 5.4</td><td> 15.90</td><td> 0.860</td></tr>\n",
       "</tbody>\n",
       "</table>\n"
      ],
      "text/latex": [
       "A data.frame: 6 × 7\n",
       "\\begin{tabular}{r|lllllll}\n",
       "  & country & date & tested & confirmed & confirmed.tested.ratio & tested.population.ratio & confirmed.population.ratio\\\\\n",
       "  & <fct> & <fct> & <dbl> & <dbl> & <dbl> & <dbl> & <dbl>\\\\\n",
       "\\hline\n",
       "\t1 & Afghanistan         & 17 Dec 2020 & 154767 & 49621 & 32.1 &   0.40 &  0.130\\\\\n",
       "\t2 & Albania             & 18 Feb 2021 & 428654 & 96838 & 22.6 &  15.00 &  3.400\\\\\n",
       "\t3 & Algeria             & 2 Nov 2020  & 230553 & 58574 & 25.4 &   0.53 &  0.130\\\\\n",
       "\t4 & Andorra             & 23 Feb 2022 & 300307 & 37958 & 12.6 & 387.00 & 49.000\\\\\n",
       "\t5 & Angola              & 2 Feb 2021  & 399228 & 20981 &  5.3 &   1.30 &  0.067\\\\\n",
       "\t6 & Antigua and Barbuda & 6 Mar 2021  &  15268 &   832 &  5.4 &  15.90 &  0.860\\\\\n",
       "\\end{tabular}\n"
      ],
      "text/markdown": [
       "\n",
       "A data.frame: 6 × 7\n",
       "\n",
       "| <!--/--> | country &lt;fct&gt; | date &lt;fct&gt; | tested &lt;dbl&gt; | confirmed &lt;dbl&gt; | confirmed.tested.ratio &lt;dbl&gt; | tested.population.ratio &lt;dbl&gt; | confirmed.population.ratio &lt;dbl&gt; |\n",
       "|---|---|---|---|---|---|---|---|\n",
       "| 1 | Afghanistan         | 17 Dec 2020 | 154767 | 49621 | 32.1 |   0.40 |  0.130 |\n",
       "| 2 | Albania             | 18 Feb 2021 | 428654 | 96838 | 22.6 |  15.00 |  3.400 |\n",
       "| 3 | Algeria             | 2 Nov 2020  | 230553 | 58574 | 25.4 |   0.53 |  0.130 |\n",
       "| 4 | Andorra             | 23 Feb 2022 | 300307 | 37958 | 12.6 | 387.00 | 49.000 |\n",
       "| 5 | Angola              | 2 Feb 2021  | 399228 | 20981 |  5.3 |   1.30 |  0.067 |\n",
       "| 6 | Antigua and Barbuda | 6 Mar 2021  |  15268 |   832 |  5.4 |  15.90 |  0.860 |\n",
       "\n"
      ],
      "text/plain": [
       "  country             date        tested confirmed confirmed.tested.ratio\n",
       "1 Afghanistan         17 Dec 2020 154767 49621     32.1                  \n",
       "2 Albania             18 Feb 2021 428654 96838     22.6                  \n",
       "3 Algeria             2 Nov 2020  230553 58574     25.4                  \n",
       "4 Andorra             23 Feb 2022 300307 37958     12.6                  \n",
       "5 Angola              2 Feb 2021  399228 20981      5.3                  \n",
       "6 Antigua and Barbuda 6 Mar 2021   15268   832      5.4                  \n",
       "  tested.population.ratio confirmed.population.ratio\n",
       "1   0.40                   0.130                    \n",
       "2  15.00                   3.400                    \n",
       "3   0.53                   0.130                    \n",
       "4 387.00                  49.000                    \n",
       "5   1.30                   0.067                    \n",
       "6  15.90                   0.860                    "
      ]
     },
     "metadata": {},
     "output_type": "display_data"
    }
   ],
   "source": [
    "# call `preprocess_covid_data_frame` function and assign it to a new data frame\n",
    "postprocess <- preprocess_covid_data_frame(data_frame)\n",
    "head(postprocess)"
   ]
  },
  {
   "cell_type": "code",
   "execution_count": 30,
   "id": "d26a996c-58af-4245-b0ef-e6674a1ad1b0",
   "metadata": {
    "tags": []
   },
   "outputs": [
    {
     "name": "stdout",
     "output_type": "stream",
     "text": [
      "'data.frame':\t172 obs. of  7 variables:\n",
      " $ country                   : Factor w/ 172 levels \"Afghanistan\",..: 1 2 3 4 5 6 7 8 9 10 ...\n",
      " $ date                      : Factor w/ 141 levels \"1 Aug 2021\",\"1 Feb 2023\",..: 32 38 49 60 44 124 29 90 141 2 ...\n",
      " $ tested                    : num  154767 428654 230553 300307 399228 ...\n",
      " $ confirmed                 : num  49621 96838 58574 37958 20981 ...\n",
      " $ confirmed.tested.ratio    : num  32.1 22.6 25.4 12.6 5.3 5.4 25.4 13.6 12.9 2.8 ...\n",
      " $ tested.population.ratio   : num  0.4 15 0.53 387 1.3 ...\n",
      " $ confirmed.population.ratio: num  0.13 3.4 0.13 49 0.067 0.86 20 14.3 40.3 65 ...\n"
     ]
    }
   ],
   "source": [
    "# Print the summary of the processed data frame again\n",
    "str(postprocess)"
   ]
  },
  {
   "cell_type": "code",
   "execution_count": 31,
   "id": "8cf4c934-8f26-45ee-9563-681ae7769337",
   "metadata": {
    "tags": []
   },
   "outputs": [],
   "source": [
    "# Export the data frame to a csv file\n",
    "write.csv(postprocess, file = \"covid.csv\", row.names = FALSE)"
   ]
  },
  {
   "cell_type": "code",
   "execution_count": 32,
   "id": "ac8de415-76d6-4212-a573-1731f9653dba",
   "metadata": {
    "tags": []
   },
   "outputs": [
    {
     "name": "stdout",
     "output_type": "stream",
     "text": [
      "[1] \"/resources/labs/authoride/IBMSkillsNetwork+RP0101EN/v2/M5_Final/covid.csv\"\n"
     ]
    },
    {
     "data": {
      "text/html": [
       "TRUE"
      ],
      "text/latex": [
       "TRUE"
      ],
      "text/markdown": [
       "TRUE"
      ],
      "text/plain": [
       "[1] TRUE"
      ]
     },
     "metadata": {},
     "output_type": "display_data"
    }
   ],
   "source": [
    "# Get working directory\n",
    "wd <- getwd()\n",
    "# Get exported \n",
    "file_path <- paste(wd, sep=\"\", \"/covid.csv\")\n",
    "# File path\n",
    "print(file_path)\n",
    "file.exists(file_path)"
   ]
  },
  {
   "cell_type": "code",
   "execution_count": 34,
   "id": "f51f2b66-9cbb-452b-ab4b-4a38c599ffab",
   "metadata": {
    "tags": []
   },
   "outputs": [
    {
     "data": {
      "text/html": [
       "<table>\n",
       "<caption>A data.frame: 6 × 2</caption>\n",
       "<thead>\n",
       "\t<tr><th></th><th scope=col>country</th><th scope=col>confirmed</th></tr>\n",
       "\t<tr><th></th><th scope=col>&lt;fct&gt;</th><th scope=col>&lt;int&gt;</th></tr>\n",
       "</thead>\n",
       "<tbody>\n",
       "\t<tr><th scope=row>5</th><td>Angola             </td><td>   20981</td></tr>\n",
       "\t<tr><th scope=row>6</th><td>Antigua and Barbuda</td><td>     832</td></tr>\n",
       "\t<tr><th scope=row>7</th><td>Argentina          </td><td> 9060495</td></tr>\n",
       "\t<tr><th scope=row>8</th><td>Armenia            </td><td>  422963</td></tr>\n",
       "\t<tr><th scope=row>9</th><td>Australia          </td><td>10112229</td></tr>\n",
       "\t<tr><th scope=row>10</th><td>Austria            </td><td> 5789991</td></tr>\n",
       "</tbody>\n",
       "</table>\n"
      ],
      "text/latex": [
       "A data.frame: 6 × 2\n",
       "\\begin{tabular}{r|ll}\n",
       "  & country & confirmed\\\\\n",
       "  & <fct> & <int>\\\\\n",
       "\\hline\n",
       "\t5 & Angola              &    20981\\\\\n",
       "\t6 & Antigua and Barbuda &      832\\\\\n",
       "\t7 & Argentina           &  9060495\\\\\n",
       "\t8 & Armenia             &   422963\\\\\n",
       "\t9 & Australia           & 10112229\\\\\n",
       "\t10 & Austria             &  5789991\\\\\n",
       "\\end{tabular}\n"
      ],
      "text/markdown": [
       "\n",
       "A data.frame: 6 × 2\n",
       "\n",
       "| <!--/--> | country &lt;fct&gt; | confirmed &lt;int&gt; |\n",
       "|---|---|---|\n",
       "| 5 | Angola              |    20981 |\n",
       "| 6 | Antigua and Barbuda |      832 |\n",
       "| 7 | Argentina           |  9060495 |\n",
       "| 8 | Armenia             |   422963 |\n",
       "| 9 | Australia           | 10112229 |\n",
       "| 10 | Austria             |  5789991 |\n",
       "\n"
      ],
      "text/plain": [
       "   country             confirmed\n",
       "5  Angola                 20981 \n",
       "6  Antigua and Barbuda      832 \n",
       "7  Argentina            9060495 \n",
       "8  Armenia               422963 \n",
       "9  Australia           10112229 \n",
       "10 Austria              5789991 "
      ]
     },
     "metadata": {},
     "output_type": "display_data"
    }
   ],
   "source": [
    "# Read covid_data_frame_csv from the csv file\n",
    "covid_data_frame_csv <- read.csv(\"covid.csv\", header=TRUE, sep=\",\")\n",
    "covid_data_frame_csv[5:10, c(\"country\",\"confirmed\")]"
   ]
  },
  {
   "cell_type": "code",
   "execution_count": 35,
   "id": "74656045-e461-41ee-b585-9a826a200270",
   "metadata": {
    "tags": []
   },
   "outputs": [
    {
     "data": {
      "text/html": [
       "<table>\n",
       "<caption>A data.frame: 6 × 7</caption>\n",
       "<thead>\n",
       "\t<tr><th></th><th scope=col>country</th><th scope=col>date</th><th scope=col>tested</th><th scope=col>confirmed</th><th scope=col>confirmed.tested.ratio</th><th scope=col>tested.population.ratio</th><th scope=col>confirmed.population.ratio</th></tr>\n",
       "\t<tr><th></th><th scope=col>&lt;fct&gt;</th><th scope=col>&lt;fct&gt;</th><th scope=col>&lt;dbl&gt;</th><th scope=col>&lt;int&gt;</th><th scope=col>&lt;dbl&gt;</th><th scope=col>&lt;dbl&gt;</th><th scope=col>&lt;dbl&gt;</th></tr>\n",
       "</thead>\n",
       "<tbody>\n",
       "\t<tr><th scope=row>1</th><td>Afghanistan        </td><td>17 Dec 2020</td><td>154767</td><td>49621</td><td>32.1</td><td>  0.40</td><td> 0.130</td></tr>\n",
       "\t<tr><th scope=row>2</th><td>Albania            </td><td>18 Feb 2021</td><td>428654</td><td>96838</td><td>22.6</td><td> 15.00</td><td> 3.400</td></tr>\n",
       "\t<tr><th scope=row>3</th><td>Algeria            </td><td>2 Nov 2020 </td><td>230553</td><td>58574</td><td>25.4</td><td>  0.53</td><td> 0.130</td></tr>\n",
       "\t<tr><th scope=row>4</th><td>Andorra            </td><td>23 Feb 2022</td><td>300307</td><td>37958</td><td>12.6</td><td>387.00</td><td>49.000</td></tr>\n",
       "\t<tr><th scope=row>5</th><td>Angola             </td><td>2 Feb 2021 </td><td>399228</td><td>20981</td><td> 5.3</td><td>  1.30</td><td> 0.067</td></tr>\n",
       "\t<tr><th scope=row>6</th><td>Antigua and Barbuda</td><td>6 Mar 2021 </td><td> 15268</td><td>  832</td><td> 5.4</td><td> 15.90</td><td> 0.860</td></tr>\n",
       "</tbody>\n",
       "</table>\n"
      ],
      "text/latex": [
       "A data.frame: 6 × 7\n",
       "\\begin{tabular}{r|lllllll}\n",
       "  & country & date & tested & confirmed & confirmed.tested.ratio & tested.population.ratio & confirmed.population.ratio\\\\\n",
       "  & <fct> & <fct> & <dbl> & <int> & <dbl> & <dbl> & <dbl>\\\\\n",
       "\\hline\n",
       "\t1 & Afghanistan         & 17 Dec 2020 & 154767 & 49621 & 32.1 &   0.40 &  0.130\\\\\n",
       "\t2 & Albania             & 18 Feb 2021 & 428654 & 96838 & 22.6 &  15.00 &  3.400\\\\\n",
       "\t3 & Algeria             & 2 Nov 2020  & 230553 & 58574 & 25.4 &   0.53 &  0.130\\\\\n",
       "\t4 & Andorra             & 23 Feb 2022 & 300307 & 37958 & 12.6 & 387.00 & 49.000\\\\\n",
       "\t5 & Angola              & 2 Feb 2021  & 399228 & 20981 &  5.3 &   1.30 &  0.067\\\\\n",
       "\t6 & Antigua and Barbuda & 6 Mar 2021  &  15268 &   832 &  5.4 &  15.90 &  0.860\\\\\n",
       "\\end{tabular}\n"
      ],
      "text/markdown": [
       "\n",
       "A data.frame: 6 × 7\n",
       "\n",
       "| <!--/--> | country &lt;fct&gt; | date &lt;fct&gt; | tested &lt;dbl&gt; | confirmed &lt;int&gt; | confirmed.tested.ratio &lt;dbl&gt; | tested.population.ratio &lt;dbl&gt; | confirmed.population.ratio &lt;dbl&gt; |\n",
       "|---|---|---|---|---|---|---|---|\n",
       "| 1 | Afghanistan         | 17 Dec 2020 | 154767 | 49621 | 32.1 |   0.40 |  0.130 |\n",
       "| 2 | Albania             | 18 Feb 2021 | 428654 | 96838 | 22.6 |  15.00 |  3.400 |\n",
       "| 3 | Algeria             | 2 Nov 2020  | 230553 | 58574 | 25.4 |   0.53 |  0.130 |\n",
       "| 4 | Andorra             | 23 Feb 2022 | 300307 | 37958 | 12.6 | 387.00 | 49.000 |\n",
       "| 5 | Angola              | 2 Feb 2021  | 399228 | 20981 |  5.3 |   1.30 |  0.067 |\n",
       "| 6 | Antigua and Barbuda | 6 Mar 2021  |  15268 |   832 |  5.4 |  15.90 |  0.860 |\n",
       "\n"
      ],
      "text/plain": [
       "  country             date        tested confirmed confirmed.tested.ratio\n",
       "1 Afghanistan         17 Dec 2020 154767 49621     32.1                  \n",
       "2 Albania             18 Feb 2021 428654 96838     22.6                  \n",
       "3 Algeria             2 Nov 2020  230553 58574     25.4                  \n",
       "4 Andorra             23 Feb 2022 300307 37958     12.6                  \n",
       "5 Angola              2 Feb 2021  399228 20981      5.3                  \n",
       "6 Antigua and Barbuda 6 Mar 2021   15268   832      5.4                  \n",
       "  tested.population.ratio confirmed.population.ratio\n",
       "1   0.40                   0.130                    \n",
       "2  15.00                   3.400                    \n",
       "3   0.53                   0.130                    \n",
       "4 387.00                  49.000                    \n",
       "5   1.30                   0.067                    \n",
       "6  15.90                   0.860                    "
      ]
     },
     "metadata": {},
     "output_type": "display_data"
    }
   ],
   "source": [
    "head(covid_data_frame_csv)"
   ]
  },
  {
   "cell_type": "code",
   "execution_count": 36,
   "id": "4b3efd82-1185-4b1c-b17c-a322533468d4",
   "metadata": {
    "tags": []
   },
   "outputs": [],
   "source": [
    "library(MASS)"
   ]
  },
  {
   "cell_type": "code",
   "execution_count": 37,
   "id": "5b15f58a-63d9-4fa2-ba41-ffb4567168e0",
   "metadata": {
    "tags": []
   },
   "outputs": [
    {
     "name": "stdout",
     "output_type": "stream",
     "text": [
      "[1] \"Total confirmed cases worldwide: 431434555 cases\"\n",
      "[1] \"Total tested cases worldwide: 5396881644 cases\"\n",
      "[1] \"Overall positive ratio: 2/25\"\n"
     ]
    }
   ],
   "source": [
    "sum_confirmed <- sum(covid_data_frame_csv$confirmed)\n",
    "print(paste(\"Total confirmed cases worldwide:\", sum_confirmed , \"cases\"))\n",
    "\n",
    "\n",
    "sum_tested <- sum(covid_data_frame_csv$tested)\n",
    "print(paste(\"Total tested cases worldwide:\", sum_tested , \"cases\"))\n",
    "\n",
    "\n",
    "positive_ratio <- round(sum_confirmed/sum_tested,2)\n",
    "print(paste(\"Overall positive ratio:\", fractions(positive_ratio)))"
   ]
  },
  {
   "cell_type": "code",
   "execution_count": 38,
   "id": "88aa70f8-4fa1-4b99-bd6c-a34e423528dc",
   "metadata": {
    "tags": []
   },
   "outputs": [
    {
     "data": {
      "text/html": [
       "<table>\n",
       "<caption>A data.frame: 6 × 1</caption>\n",
       "<thead>\n",
       "\t<tr><th></th><th scope=col>country</th></tr>\n",
       "\t<tr><th></th><th scope=col>&lt;fct&gt;</th></tr>\n",
       "</thead>\n",
       "<tbody>\n",
       "\t<tr><th scope=row>1</th><td>Afghanistan        </td></tr>\n",
       "\t<tr><th scope=row>2</th><td>Albania            </td></tr>\n",
       "\t<tr><th scope=row>3</th><td>Algeria            </td></tr>\n",
       "\t<tr><th scope=row>4</th><td>Andorra            </td></tr>\n",
       "\t<tr><th scope=row>5</th><td>Angola             </td></tr>\n",
       "\t<tr><th scope=row>6</th><td>Antigua and Barbuda</td></tr>\n",
       "</tbody>\n",
       "</table>\n"
      ],
      "text/latex": [
       "A data.frame: 6 × 1\n",
       "\\begin{tabular}{r|l}\n",
       "  & country\\\\\n",
       "  & <fct>\\\\\n",
       "\\hline\n",
       "\t1 & Afghanistan        \\\\\n",
       "\t2 & Albania            \\\\\n",
       "\t3 & Algeria            \\\\\n",
       "\t4 & Andorra            \\\\\n",
       "\t5 & Angola             \\\\\n",
       "\t6 & Antigua and Barbuda\\\\\n",
       "\\end{tabular}\n"
      ],
      "text/markdown": [
       "\n",
       "A data.frame: 6 × 1\n",
       "\n",
       "| <!--/--> | country &lt;fct&gt; |\n",
       "|---|---|\n",
       "| 1 | Afghanistan         |\n",
       "| 2 | Albania             |\n",
       "| 3 | Algeria             |\n",
       "| 4 | Andorra             |\n",
       "| 5 | Angola              |\n",
       "| 6 | Antigua and Barbuda |\n",
       "\n"
      ],
      "text/plain": [
       "  country            \n",
       "1 Afghanistan        \n",
       "2 Albania            \n",
       "3 Algeria            \n",
       "4 Andorra            \n",
       "5 Angola             \n",
       "6 Antigua and Barbuda"
      ]
     },
     "metadata": {},
     "output_type": "display_data"
    },
    {
     "data": {
      "text/html": [
       "'factor'"
      ],
      "text/latex": [
       "'factor'"
      ],
      "text/markdown": [
       "'factor'"
      ],
      "text/plain": [
       "[1] \"factor\""
      ]
     },
     "metadata": {},
     "output_type": "display_data"
    },
    {
     "data": {
      "text/html": [
       "'character'"
      ],
      "text/latex": [
       "'character'"
      ],
      "text/markdown": [
       "'character'"
      ],
      "text/plain": [
       "[1] \"character\""
      ]
     },
     "metadata": {},
     "output_type": "display_data"
    },
    {
     "data": {
      "text/html": [
       "<style>\n",
       ".list-inline {list-style: none; margin:0; padding: 0}\n",
       ".list-inline>li {display: inline-block}\n",
       ".list-inline>li:not(:last-child)::after {content: \"\\00b7\"; padding: 0 .5ex}\n",
       "</style>\n",
       "<ol class=list-inline><li>'Zimbabwe'</li><li>'Zambia'</li><li>'Vietnam'</li><li>'Venezuela'</li><li>'Uzbekistan'</li><li>'Uruguay'</li><li>'United States'</li><li>'United Kingdom'</li><li>'United Arab Emirates'</li><li>'Ukraine'</li><li>'Uganda'</li><li>'Turkey'</li><li>'Tunisia'</li><li>'Trinidad and Tobago'</li><li>'Togo'</li><li>'Thailand'</li><li>'Tanzania'</li><li>'Taiwan[m]'</li><li>'Switzerland[l]'</li><li>'Sweden'</li><li>'Sudan'</li><li>'Sri Lanka'</li><li>'Spain'</li><li>'South Sudan'</li><li>'South Korea'</li><li>'South Africa'</li><li>'Slovenia'</li><li>'Slovakia'</li><li>'Singapore'</li><li>'Serbia'</li><li>'Senegal'</li><li>'Saudi Arabia'</li><li>'San Marino'</li><li>'Saint Vincent'</li><li>'Saint Lucia'</li><li>'Saint Kitts and Nevis'</li><li>'Rwanda'</li><li>'Russia'</li><li>'Romania'</li><li>'Qatar'</li><li>'Portugal'</li><li>'Poland'</li><li>'Philippines'</li><li>'Peru'</li><li>'Paraguay'</li><li>'Papua New Guinea'</li><li>'Panama'</li><li>'Palestine'</li><li>'Pakistan'</li><li>'Oman'</li><li>'Norway'</li><li>'Northern Cyprus[k]'</li><li>'North Macedonia'</li><li>'North Korea'</li><li>'Nigeria'</li><li>'Niger'</li><li>'New Zealand'</li><li>'New Caledonia'</li><li>'Netherlands'</li><li>'Nepal'</li><li>'Namibia'</li><li>'Myanmar'</li><li>'Mozambique'</li><li>'Morocco'</li><li>'Montenegro'</li><li>'Mongolia'</li><li>'Moldova[j]'</li><li>'Mexico'</li><li>'Mauritius'</li><li>'Mauritania'</li><li>'Malta'</li><li>'Mali'</li><li>'Maldives'</li><li>'Malaysia'</li><li>'Malawi'</li><li>'Madagascar'</li><li>'Luxembourg[i]'</li><li>'Lithuania'</li><li>'Libya'</li><li>'Liberia'</li><li>'Lesotho'</li><li>'Lebanon'</li><li>'Latvia'</li><li>'Laos'</li><li>'Kyrgyzstan'</li><li>'Kuwait'</li><li>'Kosovo'</li><li>'Kenya'</li><li>'Kazakhstan'</li><li>'Jordan'</li><li>'Japan'</li><li>'Jamaica'</li><li>'Ivory Coast'</li><li>'Italy'</li><li>'Israel'</li><li>'Ireland'</li><li>'Iraq'</li><li>'Iran'</li><li>'Indonesia'</li><li>'India'</li><li>'Iceland'</li><li>'Hungary'</li><li>'Honduras'</li><li>'Haiti'</li><li>'Guyana'</li><li>'Guinea-Bissau'</li><li>'Guinea'</li><li>'Guatemala'</li><li>'Grenada'</li><li>'Greenland'</li><li>'Greece'</li><li>'Ghana'</li><li>'Germany'</li><li>'Georgia[h]'</li><li>'Gambia'</li><li>'Gabon'</li><li>'France[f][g]'</li><li>'Finland'</li><li>'Fiji'</li><li>'Faroe Islands'</li><li>'Ethiopia'</li><li>'Eswatini'</li><li>'Estonia'</li><li>'Equatorial Guinea'</li><li>'El Salvador'</li><li>'Egypt'</li><li>'Ecuador'</li><li>'DR Congo'</li><li>'Dominican Republic'</li><li>'Dominica'</li><li>'Djibouti'</li><li>'Denmark[e]'</li><li>'Czechia'</li><li>'Cyprus[d]'</li><li>'Cuba'</li><li>'Croatia'</li><li>'Costa Rica'</li><li>'Colombia'</li><li>'China[c]'</li><li>'Chile'</li><li>'Chad'</li><li>'Canada'</li><li>'Cameroon'</li><li>'Cambodia'</li><li>'Burundi'</li><li>'Burkina Faso'</li><li>'Bulgaria'</li><li>'Brunei'</li><li>'Brazil'</li><li>'Botswana'</li><li>'Bosnia and Herzegovina'</li><li>'Bolivia'</li><li>'Bhutan'</li><li>'Benin'</li><li>'Belize'</li><li>'Belgium'</li><li>'Belarus'</li><li>'Barbados'</li><li>'Bangladesh'</li><li>'Bahrain'</li><li>'Bahamas'</li><li>'Azerbaijan'</li><li>'Austria'</li><li>'Australia'</li><li>'Armenia'</li><li>'Argentina'</li><li>'Antigua and Barbuda'</li><li>'Angola'</li><li>'Andorra'</li><li>'Algeria'</li><li>'Albania'</li><li>'Afghanistan'</li></ol>\n"
      ],
      "text/latex": [
       "\\begin{enumerate*}\n",
       "\\item 'Zimbabwe'\n",
       "\\item 'Zambia'\n",
       "\\item 'Vietnam'\n",
       "\\item 'Venezuela'\n",
       "\\item 'Uzbekistan'\n",
       "\\item 'Uruguay'\n",
       "\\item 'United States'\n",
       "\\item 'United Kingdom'\n",
       "\\item 'United Arab Emirates'\n",
       "\\item 'Ukraine'\n",
       "\\item 'Uganda'\n",
       "\\item 'Turkey'\n",
       "\\item 'Tunisia'\n",
       "\\item 'Trinidad and Tobago'\n",
       "\\item 'Togo'\n",
       "\\item 'Thailand'\n",
       "\\item 'Tanzania'\n",
       "\\item 'Taiwan{[}m{]}'\n",
       "\\item 'Switzerland{[}l{]}'\n",
       "\\item 'Sweden'\n",
       "\\item 'Sudan'\n",
       "\\item 'Sri Lanka'\n",
       "\\item 'Spain'\n",
       "\\item 'South Sudan'\n",
       "\\item 'South Korea'\n",
       "\\item 'South Africa'\n",
       "\\item 'Slovenia'\n",
       "\\item 'Slovakia'\n",
       "\\item 'Singapore'\n",
       "\\item 'Serbia'\n",
       "\\item 'Senegal'\n",
       "\\item 'Saudi Arabia'\n",
       "\\item 'San Marino'\n",
       "\\item 'Saint Vincent'\n",
       "\\item 'Saint Lucia'\n",
       "\\item 'Saint Kitts and Nevis'\n",
       "\\item 'Rwanda'\n",
       "\\item 'Russia'\n",
       "\\item 'Romania'\n",
       "\\item 'Qatar'\n",
       "\\item 'Portugal'\n",
       "\\item 'Poland'\n",
       "\\item 'Philippines'\n",
       "\\item 'Peru'\n",
       "\\item 'Paraguay'\n",
       "\\item 'Papua New Guinea'\n",
       "\\item 'Panama'\n",
       "\\item 'Palestine'\n",
       "\\item 'Pakistan'\n",
       "\\item 'Oman'\n",
       "\\item 'Norway'\n",
       "\\item 'Northern Cyprus{[}k{]}'\n",
       "\\item 'North Macedonia'\n",
       "\\item 'North Korea'\n",
       "\\item 'Nigeria'\n",
       "\\item 'Niger'\n",
       "\\item 'New Zealand'\n",
       "\\item 'New Caledonia'\n",
       "\\item 'Netherlands'\n",
       "\\item 'Nepal'\n",
       "\\item 'Namibia'\n",
       "\\item 'Myanmar'\n",
       "\\item 'Mozambique'\n",
       "\\item 'Morocco'\n",
       "\\item 'Montenegro'\n",
       "\\item 'Mongolia'\n",
       "\\item 'Moldova{[}j{]}'\n",
       "\\item 'Mexico'\n",
       "\\item 'Mauritius'\n",
       "\\item 'Mauritania'\n",
       "\\item 'Malta'\n",
       "\\item 'Mali'\n",
       "\\item 'Maldives'\n",
       "\\item 'Malaysia'\n",
       "\\item 'Malawi'\n",
       "\\item 'Madagascar'\n",
       "\\item 'Luxembourg{[}i{]}'\n",
       "\\item 'Lithuania'\n",
       "\\item 'Libya'\n",
       "\\item 'Liberia'\n",
       "\\item 'Lesotho'\n",
       "\\item 'Lebanon'\n",
       "\\item 'Latvia'\n",
       "\\item 'Laos'\n",
       "\\item 'Kyrgyzstan'\n",
       "\\item 'Kuwait'\n",
       "\\item 'Kosovo'\n",
       "\\item 'Kenya'\n",
       "\\item 'Kazakhstan'\n",
       "\\item 'Jordan'\n",
       "\\item 'Japan'\n",
       "\\item 'Jamaica'\n",
       "\\item 'Ivory Coast'\n",
       "\\item 'Italy'\n",
       "\\item 'Israel'\n",
       "\\item 'Ireland'\n",
       "\\item 'Iraq'\n",
       "\\item 'Iran'\n",
       "\\item 'Indonesia'\n",
       "\\item 'India'\n",
       "\\item 'Iceland'\n",
       "\\item 'Hungary'\n",
       "\\item 'Honduras'\n",
       "\\item 'Haiti'\n",
       "\\item 'Guyana'\n",
       "\\item 'Guinea-Bissau'\n",
       "\\item 'Guinea'\n",
       "\\item 'Guatemala'\n",
       "\\item 'Grenada'\n",
       "\\item 'Greenland'\n",
       "\\item 'Greece'\n",
       "\\item 'Ghana'\n",
       "\\item 'Germany'\n",
       "\\item 'Georgia{[}h{]}'\n",
       "\\item 'Gambia'\n",
       "\\item 'Gabon'\n",
       "\\item 'France{[}f{]}{[}g{]}'\n",
       "\\item 'Finland'\n",
       "\\item 'Fiji'\n",
       "\\item 'Faroe Islands'\n",
       "\\item 'Ethiopia'\n",
       "\\item 'Eswatini'\n",
       "\\item 'Estonia'\n",
       "\\item 'Equatorial Guinea'\n",
       "\\item 'El Salvador'\n",
       "\\item 'Egypt'\n",
       "\\item 'Ecuador'\n",
       "\\item 'DR Congo'\n",
       "\\item 'Dominican Republic'\n",
       "\\item 'Dominica'\n",
       "\\item 'Djibouti'\n",
       "\\item 'Denmark{[}e{]}'\n",
       "\\item 'Czechia'\n",
       "\\item 'Cyprus{[}d{]}'\n",
       "\\item 'Cuba'\n",
       "\\item 'Croatia'\n",
       "\\item 'Costa Rica'\n",
       "\\item 'Colombia'\n",
       "\\item 'China{[}c{]}'\n",
       "\\item 'Chile'\n",
       "\\item 'Chad'\n",
       "\\item 'Canada'\n",
       "\\item 'Cameroon'\n",
       "\\item 'Cambodia'\n",
       "\\item 'Burundi'\n",
       "\\item 'Burkina Faso'\n",
       "\\item 'Bulgaria'\n",
       "\\item 'Brunei'\n",
       "\\item 'Brazil'\n",
       "\\item 'Botswana'\n",
       "\\item 'Bosnia and Herzegovina'\n",
       "\\item 'Bolivia'\n",
       "\\item 'Bhutan'\n",
       "\\item 'Benin'\n",
       "\\item 'Belize'\n",
       "\\item 'Belgium'\n",
       "\\item 'Belarus'\n",
       "\\item 'Barbados'\n",
       "\\item 'Bangladesh'\n",
       "\\item 'Bahrain'\n",
       "\\item 'Bahamas'\n",
       "\\item 'Azerbaijan'\n",
       "\\item 'Austria'\n",
       "\\item 'Australia'\n",
       "\\item 'Armenia'\n",
       "\\item 'Argentina'\n",
       "\\item 'Antigua and Barbuda'\n",
       "\\item 'Angola'\n",
       "\\item 'Andorra'\n",
       "\\item 'Algeria'\n",
       "\\item 'Albania'\n",
       "\\item 'Afghanistan'\n",
       "\\end{enumerate*}\n"
      ],
      "text/markdown": [
       "1. 'Zimbabwe'\n",
       "2. 'Zambia'\n",
       "3. 'Vietnam'\n",
       "4. 'Venezuela'\n",
       "5. 'Uzbekistan'\n",
       "6. 'Uruguay'\n",
       "7. 'United States'\n",
       "8. 'United Kingdom'\n",
       "9. 'United Arab Emirates'\n",
       "10. 'Ukraine'\n",
       "11. 'Uganda'\n",
       "12. 'Turkey'\n",
       "13. 'Tunisia'\n",
       "14. 'Trinidad and Tobago'\n",
       "15. 'Togo'\n",
       "16. 'Thailand'\n",
       "17. 'Tanzania'\n",
       "18. 'Taiwan[m]'\n",
       "19. 'Switzerland[l]'\n",
       "20. 'Sweden'\n",
       "21. 'Sudan'\n",
       "22. 'Sri Lanka'\n",
       "23. 'Spain'\n",
       "24. 'South Sudan'\n",
       "25. 'South Korea'\n",
       "26. 'South Africa'\n",
       "27. 'Slovenia'\n",
       "28. 'Slovakia'\n",
       "29. 'Singapore'\n",
       "30. 'Serbia'\n",
       "31. 'Senegal'\n",
       "32. 'Saudi Arabia'\n",
       "33. 'San Marino'\n",
       "34. 'Saint Vincent'\n",
       "35. 'Saint Lucia'\n",
       "36. 'Saint Kitts and Nevis'\n",
       "37. 'Rwanda'\n",
       "38. 'Russia'\n",
       "39. 'Romania'\n",
       "40. 'Qatar'\n",
       "41. 'Portugal'\n",
       "42. 'Poland'\n",
       "43. 'Philippines'\n",
       "44. 'Peru'\n",
       "45. 'Paraguay'\n",
       "46. 'Papua New Guinea'\n",
       "47. 'Panama'\n",
       "48. 'Palestine'\n",
       "49. 'Pakistan'\n",
       "50. 'Oman'\n",
       "51. 'Norway'\n",
       "52. 'Northern Cyprus[k]'\n",
       "53. 'North Macedonia'\n",
       "54. 'North Korea'\n",
       "55. 'Nigeria'\n",
       "56. 'Niger'\n",
       "57. 'New Zealand'\n",
       "58. 'New Caledonia'\n",
       "59. 'Netherlands'\n",
       "60. 'Nepal'\n",
       "61. 'Namibia'\n",
       "62. 'Myanmar'\n",
       "63. 'Mozambique'\n",
       "64. 'Morocco'\n",
       "65. 'Montenegro'\n",
       "66. 'Mongolia'\n",
       "67. 'Moldova[j]'\n",
       "68. 'Mexico'\n",
       "69. 'Mauritius'\n",
       "70. 'Mauritania'\n",
       "71. 'Malta'\n",
       "72. 'Mali'\n",
       "73. 'Maldives'\n",
       "74. 'Malaysia'\n",
       "75. 'Malawi'\n",
       "76. 'Madagascar'\n",
       "77. 'Luxembourg[i]'\n",
       "78. 'Lithuania'\n",
       "79. 'Libya'\n",
       "80. 'Liberia'\n",
       "81. 'Lesotho'\n",
       "82. 'Lebanon'\n",
       "83. 'Latvia'\n",
       "84. 'Laos'\n",
       "85. 'Kyrgyzstan'\n",
       "86. 'Kuwait'\n",
       "87. 'Kosovo'\n",
       "88. 'Kenya'\n",
       "89. 'Kazakhstan'\n",
       "90. 'Jordan'\n",
       "91. 'Japan'\n",
       "92. 'Jamaica'\n",
       "93. 'Ivory Coast'\n",
       "94. 'Italy'\n",
       "95. 'Israel'\n",
       "96. 'Ireland'\n",
       "97. 'Iraq'\n",
       "98. 'Iran'\n",
       "99. 'Indonesia'\n",
       "100. 'India'\n",
       "101. 'Iceland'\n",
       "102. 'Hungary'\n",
       "103. 'Honduras'\n",
       "104. 'Haiti'\n",
       "105. 'Guyana'\n",
       "106. 'Guinea-Bissau'\n",
       "107. 'Guinea'\n",
       "108. 'Guatemala'\n",
       "109. 'Grenada'\n",
       "110. 'Greenland'\n",
       "111. 'Greece'\n",
       "112. 'Ghana'\n",
       "113. 'Germany'\n",
       "114. 'Georgia[h]'\n",
       "115. 'Gambia'\n",
       "116. 'Gabon'\n",
       "117. 'France[f][g]'\n",
       "118. 'Finland'\n",
       "119. 'Fiji'\n",
       "120. 'Faroe Islands'\n",
       "121. 'Ethiopia'\n",
       "122. 'Eswatini'\n",
       "123. 'Estonia'\n",
       "124. 'Equatorial Guinea'\n",
       "125. 'El Salvador'\n",
       "126. 'Egypt'\n",
       "127. 'Ecuador'\n",
       "128. 'DR Congo'\n",
       "129. 'Dominican Republic'\n",
       "130. 'Dominica'\n",
       "131. 'Djibouti'\n",
       "132. 'Denmark[e]'\n",
       "133. 'Czechia'\n",
       "134. 'Cyprus[d]'\n",
       "135. 'Cuba'\n",
       "136. 'Croatia'\n",
       "137. 'Costa Rica'\n",
       "138. 'Colombia'\n",
       "139. 'China[c]'\n",
       "140. 'Chile'\n",
       "141. 'Chad'\n",
       "142. 'Canada'\n",
       "143. 'Cameroon'\n",
       "144. 'Cambodia'\n",
       "145. 'Burundi'\n",
       "146. 'Burkina Faso'\n",
       "147. 'Bulgaria'\n",
       "148. 'Brunei'\n",
       "149. 'Brazil'\n",
       "150. 'Botswana'\n",
       "151. 'Bosnia and Herzegovina'\n",
       "152. 'Bolivia'\n",
       "153. 'Bhutan'\n",
       "154. 'Benin'\n",
       "155. 'Belize'\n",
       "156. 'Belgium'\n",
       "157. 'Belarus'\n",
       "158. 'Barbados'\n",
       "159. 'Bangladesh'\n",
       "160. 'Bahrain'\n",
       "161. 'Bahamas'\n",
       "162. 'Azerbaijan'\n",
       "163. 'Austria'\n",
       "164. 'Australia'\n",
       "165. 'Armenia'\n",
       "166. 'Argentina'\n",
       "167. 'Antigua and Barbuda'\n",
       "168. 'Angola'\n",
       "169. 'Andorra'\n",
       "170. 'Algeria'\n",
       "171. 'Albania'\n",
       "172. 'Afghanistan'\n",
       "\n",
       "\n"
      ],
      "text/plain": [
       "  [1] \"Zimbabwe\"               \"Zambia\"                 \"Vietnam\"               \n",
       "  [4] \"Venezuela\"              \"Uzbekistan\"             \"Uruguay\"               \n",
       "  [7] \"United States\"          \"United Kingdom\"         \"United Arab Emirates\"  \n",
       " [10] \"Ukraine\"                \"Uganda\"                 \"Turkey\"                \n",
       " [13] \"Tunisia\"                \"Trinidad and Tobago\"    \"Togo\"                  \n",
       " [16] \"Thailand\"               \"Tanzania\"               \"Taiwan[m]\"             \n",
       " [19] \"Switzerland[l]\"         \"Sweden\"                 \"Sudan\"                 \n",
       " [22] \"Sri Lanka\"              \"Spain\"                  \"South Sudan\"           \n",
       " [25] \"South Korea\"            \"South Africa\"           \"Slovenia\"              \n",
       " [28] \"Slovakia\"               \"Singapore\"              \"Serbia\"                \n",
       " [31] \"Senegal\"                \"Saudi Arabia\"           \"San Marino\"            \n",
       " [34] \"Saint Vincent\"          \"Saint Lucia\"            \"Saint Kitts and Nevis\" \n",
       " [37] \"Rwanda\"                 \"Russia\"                 \"Romania\"               \n",
       " [40] \"Qatar\"                  \"Portugal\"               \"Poland\"                \n",
       " [43] \"Philippines\"            \"Peru\"                   \"Paraguay\"              \n",
       " [46] \"Papua New Guinea\"       \"Panama\"                 \"Palestine\"             \n",
       " [49] \"Pakistan\"               \"Oman\"                   \"Norway\"                \n",
       " [52] \"Northern Cyprus[k]\"     \"North Macedonia\"        \"North Korea\"           \n",
       " [55] \"Nigeria\"                \"Niger\"                  \"New Zealand\"           \n",
       " [58] \"New Caledonia\"          \"Netherlands\"            \"Nepal\"                 \n",
       " [61] \"Namibia\"                \"Myanmar\"                \"Mozambique\"            \n",
       " [64] \"Morocco\"                \"Montenegro\"             \"Mongolia\"              \n",
       " [67] \"Moldova[j]\"             \"Mexico\"                 \"Mauritius\"             \n",
       " [70] \"Mauritania\"             \"Malta\"                  \"Mali\"                  \n",
       " [73] \"Maldives\"               \"Malaysia\"               \"Malawi\"                \n",
       " [76] \"Madagascar\"             \"Luxembourg[i]\"          \"Lithuania\"             \n",
       " [79] \"Libya\"                  \"Liberia\"                \"Lesotho\"               \n",
       " [82] \"Lebanon\"                \"Latvia\"                 \"Laos\"                  \n",
       " [85] \"Kyrgyzstan\"             \"Kuwait\"                 \"Kosovo\"                \n",
       " [88] \"Kenya\"                  \"Kazakhstan\"             \"Jordan\"                \n",
       " [91] \"Japan\"                  \"Jamaica\"                \"Ivory Coast\"           \n",
       " [94] \"Italy\"                  \"Israel\"                 \"Ireland\"               \n",
       " [97] \"Iraq\"                   \"Iran\"                   \"Indonesia\"             \n",
       "[100] \"India\"                  \"Iceland\"                \"Hungary\"               \n",
       "[103] \"Honduras\"               \"Haiti\"                  \"Guyana\"                \n",
       "[106] \"Guinea-Bissau\"          \"Guinea\"                 \"Guatemala\"             \n",
       "[109] \"Grenada\"                \"Greenland\"              \"Greece\"                \n",
       "[112] \"Ghana\"                  \"Germany\"                \"Georgia[h]\"            \n",
       "[115] \"Gambia\"                 \"Gabon\"                  \"France[f][g]\"          \n",
       "[118] \"Finland\"                \"Fiji\"                   \"Faroe Islands\"         \n",
       "[121] \"Ethiopia\"               \"Eswatini\"               \"Estonia\"               \n",
       "[124] \"Equatorial Guinea\"      \"El Salvador\"            \"Egypt\"                 \n",
       "[127] \"Ecuador\"                \"DR Congo\"               \"Dominican Republic\"    \n",
       "[130] \"Dominica\"               \"Djibouti\"               \"Denmark[e]\"            \n",
       "[133] \"Czechia\"                \"Cyprus[d]\"              \"Cuba\"                  \n",
       "[136] \"Croatia\"                \"Costa Rica\"             \"Colombia\"              \n",
       "[139] \"China[c]\"               \"Chile\"                  \"Chad\"                  \n",
       "[142] \"Canada\"                 \"Cameroon\"               \"Cambodia\"              \n",
       "[145] \"Burundi\"                \"Burkina Faso\"           \"Bulgaria\"              \n",
       "[148] \"Brunei\"                 \"Brazil\"                 \"Botswana\"              \n",
       "[151] \"Bosnia and Herzegovina\" \"Bolivia\"                \"Bhutan\"                \n",
       "[154] \"Benin\"                  \"Belize\"                 \"Belgium\"               \n",
       "[157] \"Belarus\"                \"Barbados\"               \"Bangladesh\"            \n",
       "[160] \"Bahrain\"                \"Bahamas\"                \"Azerbaijan\"            \n",
       "[163] \"Austria\"                \"Australia\"              \"Armenia\"               \n",
       "[166] \"Argentina\"              \"Antigua and Barbuda\"    \"Angola\"                \n",
       "[169] \"Andorra\"                \"Algeria\"                \"Albania\"               \n",
       "[172] \"Afghanistan\"           "
      ]
     },
     "metadata": {},
     "output_type": "display_data"
    }
   ],
   "source": [
    "country_col <- covid_data_frame_csv[\"country\"]\n",
    "head(country_col)\n",
    "\n",
    "class(covid_data_frame_csv$country)\n",
    "\n",
    "country_col <- as.character(covid_data_frame_csv$country)\n",
    "class(country_col)\n",
    "\n",
    "country_col <- sort(country_col)\n",
    "\n",
    "country_col <- sort(country_col, decreasing = TRUE)\n",
    "\n",
    "country_col"
   ]
  },
  {
   "cell_type": "code",
   "execution_count": 39,
   "id": "caf30372-360f-4a4a-af50-c4884df79aac",
   "metadata": {
    "tags": []
   },
   "outputs": [
    {
     "data": {
      "text/html": [
       "<style>\n",
       ".list-inline {list-style: none; margin:0; padding: 0}\n",
       ".list-inline>li {display: inline-block}\n",
       ".list-inline>li:not(:last-child)::after {content: \"\\00b7\"; padding: 0 .5ex}\n",
       "</style>\n",
       "<ol class=list-inline><li>7</li><li>8</li><li>9</li></ol>\n"
      ],
      "text/latex": [
       "\\begin{enumerate*}\n",
       "\\item 7\n",
       "\\item 8\n",
       "\\item 9\n",
       "\\end{enumerate*}\n"
      ],
      "text/markdown": [
       "1. 7\n",
       "2. 8\n",
       "3. 9\n",
       "\n",
       "\n"
      ],
      "text/plain": [
       "[1] 7 8 9"
      ]
     },
     "metadata": {},
     "output_type": "display_data"
    },
    {
     "data": {
      "text/html": [
       "<style>\n",
       ".list-inline {list-style: none; margin:0; padding: 0}\n",
       ".list-inline>li {display: inline-block}\n",
       ".list-inline>li:not(:last-child)::after {content: \"\\00b7\"; padding: 0 .5ex}\n",
       "</style>\n",
       "<ol class=list-inline><li>'United States'</li><li>'United Kingdom'</li><li>'United Arab Emirates'</li></ol>\n"
      ],
      "text/latex": [
       "\\begin{enumerate*}\n",
       "\\item 'United States'\n",
       "\\item 'United Kingdom'\n",
       "\\item 'United Arab Emirates'\n",
       "\\end{enumerate*}\n"
      ],
      "text/markdown": [
       "1. 'United States'\n",
       "2. 'United Kingdom'\n",
       "3. 'United Arab Emirates'\n",
       "\n",
       "\n"
      ],
      "text/plain": [
       "[1] \"United States\"        \"United Kingdom\"       \"United Arab Emirates\""
      ]
     },
     "metadata": {},
     "output_type": "display_data"
    }
   ],
   "source": [
    "grep(\"United.+\", country_col)\n",
    "grep(\"United.+\", country_col, value = TRUE)"
   ]
  },
  {
   "cell_type": "code",
   "execution_count": 40,
   "id": "e99ec736-a0bc-45b1-ab5a-5ae89935efb7",
   "metadata": {
    "tags": []
   },
   "outputs": [
    {
     "data": {
      "text/html": [
       "<table>\n",
       "<caption>A data.frame: 1 × 3</caption>\n",
       "<thead>\n",
       "\t<tr><th></th><th scope=col>country</th><th scope=col>confirmed</th><th scope=col>confirmed.population.ratio</th></tr>\n",
       "\t<tr><th></th><th scope=col>&lt;fct&gt;</th><th scope=col>&lt;int&gt;</th><th scope=col>&lt;dbl&gt;</th></tr>\n",
       "</thead>\n",
       "<tbody>\n",
       "\t<tr><th scope=row>99</th><td>Malaysia</td><td>1880734</td><td>5.7</td></tr>\n",
       "</tbody>\n",
       "</table>\n"
      ],
      "text/latex": [
       "A data.frame: 1 × 3\n",
       "\\begin{tabular}{r|lll}\n",
       "  & country & confirmed & confirmed.population.ratio\\\\\n",
       "  & <fct> & <int> & <dbl>\\\\\n",
       "\\hline\n",
       "\t99 & Malaysia & 1880734 & 5.7\\\\\n",
       "\\end{tabular}\n"
      ],
      "text/markdown": [
       "\n",
       "A data.frame: 1 × 3\n",
       "\n",
       "| <!--/--> | country &lt;fct&gt; | confirmed &lt;int&gt; | confirmed.population.ratio &lt;dbl&gt; |\n",
       "|---|---|---|---|\n",
       "| 99 | Malaysia | 1880734 | 5.7 |\n",
       "\n"
      ],
      "text/plain": [
       "   country  confirmed confirmed.population.ratio\n",
       "99 Malaysia 1880734   5.7                       "
      ]
     },
     "metadata": {},
     "output_type": "display_data"
    },
    {
     "data": {
      "text/html": [
       "<table>\n",
       "<caption>A data.frame: 1 × 3</caption>\n",
       "<thead>\n",
       "\t<tr><th></th><th scope=col>country</th><th scope=col>confirmed</th><th scope=col>confirmed.population.ratio</th></tr>\n",
       "\t<tr><th></th><th scope=col>&lt;fct&gt;</th><th scope=col>&lt;int&gt;</th><th scope=col>&lt;dbl&gt;</th></tr>\n",
       "</thead>\n",
       "<tbody>\n",
       "\t<tr><th scope=row>122</th><td>Norway</td><td>554778</td><td>10.3</td></tr>\n",
       "</tbody>\n",
       "</table>\n"
      ],
      "text/latex": [
       "A data.frame: 1 × 3\n",
       "\\begin{tabular}{r|lll}\n",
       "  & country & confirmed & confirmed.population.ratio\\\\\n",
       "  & <fct> & <int> & <dbl>\\\\\n",
       "\\hline\n",
       "\t122 & Norway & 554778 & 10.3\\\\\n",
       "\\end{tabular}\n"
      ],
      "text/markdown": [
       "\n",
       "A data.frame: 1 × 3\n",
       "\n",
       "| <!--/--> | country &lt;fct&gt; | confirmed &lt;int&gt; | confirmed.population.ratio &lt;dbl&gt; |\n",
       "|---|---|---|---|\n",
       "| 122 | Norway | 554778 | 10.3 |\n",
       "\n"
      ],
      "text/plain": [
       "    country confirmed confirmed.population.ratio\n",
       "122 Norway  554778    10.3                      "
      ]
     },
     "metadata": {},
     "output_type": "display_data"
    }
   ],
   "source": [
    "country_1 <- covid_data_frame_csv[\"country\"] == \"Malaysia\"\n",
    "malaysia <- covid_data_frame_csv[country_1, c(\"country\",\"confirmed\", \"confirmed.population.ratio\")]\n",
    "malaysia\n",
    "\n",
    "country_2 <- covid_data_frame_csv[\"country\"] == \"Norway\"\n",
    "norway <- covid_data_frame_csv[country_2, c(\"country\",\"confirmed\", \"confirmed.population.ratio\")]\n",
    "norway"
   ]
  },
  {
   "cell_type": "code",
   "execution_count": 41,
   "id": "392f4074-7ee6-499f-8980-1de78369052b",
   "metadata": {
    "tags": []
   },
   "outputs": [
    {
     "data": {
      "text/html": [
       "<table>\n",
       "<caption>A data.frame: 2 × 3</caption>\n",
       "<thead>\n",
       "\t<tr><th></th><th scope=col>country</th><th scope=col>confirmed</th><th scope=col>confirmed.population.ratio</th></tr>\n",
       "\t<tr><th></th><th scope=col>&lt;fct&gt;</th><th scope=col>&lt;int&gt;</th><th scope=col>&lt;dbl&gt;</th></tr>\n",
       "</thead>\n",
       "<tbody>\n",
       "\t<tr><th scope=row>99</th><td>Malaysia</td><td>1880734</td><td> 5.7</td></tr>\n",
       "\t<tr><th scope=row>122</th><td>Norway  </td><td> 554778</td><td>10.3</td></tr>\n",
       "</tbody>\n",
       "</table>\n"
      ],
      "text/latex": [
       "A data.frame: 2 × 3\n",
       "\\begin{tabular}{r|lll}\n",
       "  & country & confirmed & confirmed.population.ratio\\\\\n",
       "  & <fct> & <int> & <dbl>\\\\\n",
       "\\hline\n",
       "\t99 & Malaysia & 1880734 &  5.7\\\\\n",
       "\t122 & Norway   &  554778 & 10.3\\\\\n",
       "\\end{tabular}\n"
      ],
      "text/markdown": [
       "\n",
       "A data.frame: 2 × 3\n",
       "\n",
       "| <!--/--> | country &lt;fct&gt; | confirmed &lt;int&gt; | confirmed.population.ratio &lt;dbl&gt; |\n",
       "|---|---|---|---|\n",
       "| 99 | Malaysia | 1880734 |  5.7 |\n",
       "| 122 | Norway   |  554778 | 10.3 |\n",
       "\n"
      ],
      "text/plain": [
       "    country  confirmed confirmed.population.ratio\n",
       "99  Malaysia 1880734    5.7                      \n",
       "122 Norway    554778   10.3                      "
      ]
     },
     "metadata": {},
     "output_type": "display_data"
    }
   ],
   "source": [
    "country_3 <- covid_data_frame_csv[\"country\"] == c(\"Malaysia\",\"Norway\")\n",
    "combined <- covid_data_frame_csv[country_3, c(\"country\",\"confirmed\", \"confirmed.population.ratio\")]\n",
    "combined"
   ]
  },
  {
   "cell_type": "code",
   "execution_count": 42,
   "id": "4d0b7ec6-e904-4294-bd3b-65c33e389c7c",
   "metadata": {
    "tags": []
   },
   "outputs": [],
   "source": [
    "x <- combined[\"country\"] == \"Malaysia\"\n",
    "y <- combined[\"country\"] == \"Norway\""
   ]
  },
  {
   "cell_type": "code",
   "execution_count": 43,
   "id": "4defca14-8509-4d7c-8585-8b0565a16378",
   "metadata": {
    "tags": []
   },
   "outputs": [
    {
     "name": "stdout",
     "output_type": "stream",
     "text": [
      "[1] \"Norway has higher COVID-19 infection risk than Malaysia\"\n"
     ]
    }
   ],
   "source": [
    "if (combined[x, c(\"confirmed.population.ratio\")] > combined[y, c(\"confirmed.population.ratio\")]) {\n",
    "    print (\"Malaysia has higher COVID-19 infection risk than Norway\")\n",
    "} else {\n",
    "    print(\"Norway has higher COVID-19 infection risk than Malaysia\")\n",
    "}"
   ]
  },
  {
   "cell_type": "code",
   "execution_count": 45,
   "id": "0c181282-f472-4227-8428-025577f6f812",
   "metadata": {
    "tags": []
   },
   "outputs": [],
   "source": [
    "z <- function(data, isLowerCPR, threshold = 0.01){\n",
    "    isLowerCPR <- data[\"confirmed.population.ratio\"] < threshold\n",
    "    return(data[isLowerCPR, c(\"country\",\"confirmed.population.ratio\")])\n",
    "}"
   ]
  },
  {
   "cell_type": "code",
   "execution_count": 46,
   "id": "ce9bd6b1-6b98-4286-ae36-309a45c5da70",
   "metadata": {
    "tags": []
   },
   "outputs": [
    {
     "data": {
      "text/html": [
       "<table>\n",
       "<caption>A data.frame: 5 × 2</caption>\n",
       "<thead>\n",
       "\t<tr><th></th><th scope=col>country</th><th scope=col>confirmed.population.ratio</th></tr>\n",
       "\t<tr><th></th><th scope=col>&lt;fct&gt;</th><th scope=col>&lt;dbl&gt;</th></tr>\n",
       "</thead>\n",
       "<tbody>\n",
       "\t<tr><th scope=row>28</th><td>Burundi    </td><td>0.00740</td></tr>\n",
       "\t<tr><th scope=row>34</th><td>China[c]   </td><td>0.00610</td></tr>\n",
       "\t<tr><th scope=row>89</th><td>Laos       </td><td>0.00063</td></tr>\n",
       "\t<tr><th scope=row>119</th><td>North Korea</td><td>0.00000</td></tr>\n",
       "\t<tr><th scope=row>156</th><td>Tanzania   </td><td>0.00085</td></tr>\n",
       "</tbody>\n",
       "</table>\n"
      ],
      "text/latex": [
       "A data.frame: 5 × 2\n",
       "\\begin{tabular}{r|ll}\n",
       "  & country & confirmed.population.ratio\\\\\n",
       "  & <fct> & <dbl>\\\\\n",
       "\\hline\n",
       "\t28 & Burundi     & 0.00740\\\\\n",
       "\t34 & China{[}c{]}    & 0.00610\\\\\n",
       "\t89 & Laos        & 0.00063\\\\\n",
       "\t119 & North Korea & 0.00000\\\\\n",
       "\t156 & Tanzania    & 0.00085\\\\\n",
       "\\end{tabular}\n"
      ],
      "text/markdown": [
       "\n",
       "A data.frame: 5 × 2\n",
       "\n",
       "| <!--/--> | country &lt;fct&gt; | confirmed.population.ratio &lt;dbl&gt; |\n",
       "|---|---|---|\n",
       "| 28 | Burundi     | 0.00740 |\n",
       "| 34 | China[c]    | 0.00610 |\n",
       "| 89 | Laos        | 0.00063 |\n",
       "| 119 | North Korea | 0.00000 |\n",
       "| 156 | Tanzania    | 0.00085 |\n",
       "\n"
      ],
      "text/plain": [
       "    country     confirmed.population.ratio\n",
       "28  Burundi     0.00740                   \n",
       "34  China[c]    0.00610                   \n",
       "89  Laos        0.00063                   \n",
       "119 North Korea 0.00000                   \n",
       "156 Tanzania    0.00085                   "
      ]
     },
     "metadata": {},
     "output_type": "display_data"
    }
   ],
   "source": [
    "z(covid_data_frame_csv)"
   ]
  },
  {
   "cell_type": "code",
   "execution_count": null,
   "id": "c17124da-04ff-4155-91b4-7f535502e5cb",
   "metadata": {},
   "outputs": [],
   "source": []
  }
 ],
 "metadata": {
  "kernelspec": {
   "display_name": "R",
   "language": "R",
   "name": "conda-env-r-r"
  },
  "language_info": {
   "codemirror_mode": "r",
   "file_extension": ".r",
   "mimetype": "text/x-r-source",
   "name": "R",
   "pygments_lexer": "r",
   "version": "3.5.1"
  }
 },
 "nbformat": 4,
 "nbformat_minor": 5
}
